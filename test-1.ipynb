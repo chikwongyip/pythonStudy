{
 "cells": [
  {
   "cell_type": "markdown",
   "metadata": {},
   "source": [
    "模块中，我们不但可以存放变量还能存放函数，还能存放类\n",
    "在python中一个文件就是一个模块我们称它为module"
   ]
  },
  {
   "cell_type": "markdown",
   "metadata": {},
   "source": [
    "模块使用"
   ]
  }
 ],
 "metadata": {
  "language_info": {
   "name": "python"
  },
  "orig_nbformat": 4
 },
 "nbformat": 4,
 "nbformat_minor": 2
}
